{
 "cells": [
  {
   "cell_type": "markdown",
   "metadata": {},
   "source": [
    "# <center> Final Project\n",
    "## Prepared By: Eslam Ahmed Mohammed Ibrahim Elsheikh\n",
    "### Student ID: 181061"
   ]
  },
  {
   "cell_type": "code",
   "execution_count": 1,
   "metadata": {},
   "outputs": [],
   "source": [
    "from pyspark.sql import SparkSession\n",
    "spark = SparkSession.Builder().appName('Project').getOrCreate()"
   ]
  },
  {
   "cell_type": "code",
   "execution_count": 2,
   "metadata": {},
   "outputs": [],
   "source": [
    "from pyspark.sql.functions import *"
   ]
  },
  {
   "cell_type": "markdown",
   "metadata": {},
   "source": [
    "#### Step 1. Loading the data"
   ]
  },
  {
   "cell_type": "code",
   "execution_count": 3,
   "metadata": {},
   "outputs": [],
   "source": [
    "file = 'train.csv' "
   ]
  },
  {
   "cell_type": "code",
   "execution_count": 4,
   "metadata": {},
   "outputs": [],
   "source": [
    "crime_data = spark.read.csv(file, header = True, inferSchema = True)"
   ]
  },
  {
   "cell_type": "markdown",
   "metadata": {},
   "source": [
    "some data exploration"
   ]
  },
  {
   "cell_type": "code",
   "execution_count": 5,
   "metadata": {},
   "outputs": [
    {
     "name": "stdout",
     "output_type": "stream",
     "text": [
      "Number of data rows =  878049\n",
      "\n",
      " Number of Non NA data rows =  878049\n"
     ]
    }
   ],
   "source": [
    "#counting the data rows\n",
    "print('Number of data rows = ', crime_data.count())\n",
    "print('\\n Number of Non NA data rows = ', crime_data.dropna().count()) "
   ]
  },
  {
   "cell_type": "code",
   "execution_count": 6,
   "metadata": {},
   "outputs": [
    {
     "name": "stdout",
     "output_type": "stream",
     "text": [
      "Data column names : \n",
      " ['Dates', 'Category', 'Descript', 'DayOfWeek', 'PdDistrict', 'Resolution', 'Address', 'X', 'Y']\n"
     ]
    }
   ],
   "source": [
    "columns  = list(crime_data.columns)\n",
    "print('Data column names : \\n', columns)"
   ]
  },
  {
   "cell_type": "code",
   "execution_count": 7,
   "metadata": {},
   "outputs": [
    {
     "data": {
      "text/html": [
       "<div>\n",
       "<style scoped>\n",
       "    .dataframe tbody tr th:only-of-type {\n",
       "        vertical-align: middle;\n",
       "    }\n",
       "\n",
       "    .dataframe tbody tr th {\n",
       "        vertical-align: top;\n",
       "    }\n",
       "\n",
       "    .dataframe thead th {\n",
       "        text-align: right;\n",
       "    }\n",
       "</style>\n",
       "<table border=\"1\" class=\"dataframe\">\n",
       "  <thead>\n",
       "    <tr style=\"text-align: right;\">\n",
       "      <th></th>\n",
       "      <th>0</th>\n",
       "      <th>1</th>\n",
       "      <th>2</th>\n",
       "      <th>3</th>\n",
       "      <th>4</th>\n",
       "    </tr>\n",
       "  </thead>\n",
       "  <tbody>\n",
       "    <tr>\n",
       "      <th>summary</th>\n",
       "      <td>count</td>\n",
       "      <td>mean</td>\n",
       "      <td>stddev</td>\n",
       "      <td>min</td>\n",
       "      <td>max</td>\n",
       "    </tr>\n",
       "    <tr>\n",
       "      <th>Category</th>\n",
       "      <td>878049</td>\n",
       "      <td>None</td>\n",
       "      <td>None</td>\n",
       "      <td>ARSON</td>\n",
       "      <td>WEAPON LAWS</td>\n",
       "    </tr>\n",
       "    <tr>\n",
       "      <th>Descript</th>\n",
       "      <td>878049</td>\n",
       "      <td>None</td>\n",
       "      <td>None</td>\n",
       "      <td>ABANDONMENT OF CHILD</td>\n",
       "      <td>YOUTH COURT</td>\n",
       "    </tr>\n",
       "    <tr>\n",
       "      <th>DayOfWeek</th>\n",
       "      <td>878049</td>\n",
       "      <td>None</td>\n",
       "      <td>None</td>\n",
       "      <td>Friday</td>\n",
       "      <td>Wednesday</td>\n",
       "    </tr>\n",
       "    <tr>\n",
       "      <th>PdDistrict</th>\n",
       "      <td>878049</td>\n",
       "      <td>None</td>\n",
       "      <td>None</td>\n",
       "      <td>BAYVIEW</td>\n",
       "      <td>TENDERLOIN</td>\n",
       "    </tr>\n",
       "    <tr>\n",
       "      <th>Resolution</th>\n",
       "      <td>878049</td>\n",
       "      <td>None</td>\n",
       "      <td>None</td>\n",
       "      <td>ARREST, BOOKED</td>\n",
       "      <td>UNFOUNDED</td>\n",
       "    </tr>\n",
       "    <tr>\n",
       "      <th>Address</th>\n",
       "      <td>878049</td>\n",
       "      <td>None</td>\n",
       "      <td>None</td>\n",
       "      <td>0 Block of  HARRISON ST</td>\n",
       "      <td>ZOE ST / WELSH ST</td>\n",
       "    </tr>\n",
       "    <tr>\n",
       "      <th>X</th>\n",
       "      <td>878049</td>\n",
       "      <td>-122.4226164550638</td>\n",
       "      <td>0.03035362299848847</td>\n",
       "      <td>-122.51364206429</td>\n",
       "      <td>-120.5</td>\n",
       "    </tr>\n",
       "    <tr>\n",
       "      <th>Y</th>\n",
       "      <td>878049</td>\n",
       "      <td>37.77102029800635</td>\n",
       "      <td>0.4568931047058097</td>\n",
       "      <td>37.7078790224135</td>\n",
       "      <td>90.0</td>\n",
       "    </tr>\n",
       "  </tbody>\n",
       "</table>\n",
       "</div>"
      ],
      "text/plain": [
       "                 0                   1                    2  \\\n",
       "summary      count                mean               stddev   \n",
       "Category    878049                None                 None   \n",
       "Descript    878049                None                 None   \n",
       "DayOfWeek   878049                None                 None   \n",
       "PdDistrict  878049                None                 None   \n",
       "Resolution  878049                None                 None   \n",
       "Address     878049                None                 None   \n",
       "X           878049  -122.4226164550638  0.03035362299848847   \n",
       "Y           878049   37.77102029800635   0.4568931047058097   \n",
       "\n",
       "                                  3                  4  \n",
       "summary                         min                max  \n",
       "Category                      ARSON        WEAPON LAWS  \n",
       "Descript       ABANDONMENT OF CHILD        YOUTH COURT  \n",
       "DayOfWeek                    Friday          Wednesday  \n",
       "PdDistrict                  BAYVIEW         TENDERLOIN  \n",
       "Resolution           ARREST, BOOKED          UNFOUNDED  \n",
       "Address     0 Block of  HARRISON ST  ZOE ST / WELSH ST  \n",
       "X                  -122.51364206429             -120.5  \n",
       "Y                  37.7078790224135               90.0  "
      ]
     },
     "execution_count": 7,
     "metadata": {},
     "output_type": "execute_result"
    }
   ],
   "source": [
    "crime_data.describe().toPandas().transpose()"
   ]
  },
  {
   "cell_type": "code",
   "execution_count": 8,
   "metadata": {},
   "outputs": [
    {
     "data": {
      "text/html": [
       "<div>\n",
       "<style scoped>\n",
       "    .dataframe tbody tr th:only-of-type {\n",
       "        vertical-align: middle;\n",
       "    }\n",
       "\n",
       "    .dataframe tbody tr th {\n",
       "        vertical-align: top;\n",
       "    }\n",
       "\n",
       "    .dataframe thead th {\n",
       "        text-align: right;\n",
       "    }\n",
       "</style>\n",
       "<table border=\"1\" class=\"dataframe\">\n",
       "  <thead>\n",
       "    <tr style=\"text-align: right;\">\n",
       "      <th></th>\n",
       "      <th>0</th>\n",
       "      <th>1</th>\n",
       "      <th>2</th>\n",
       "      <th>3</th>\n",
       "      <th>4</th>\n",
       "      <th>5</th>\n",
       "      <th>6</th>\n",
       "      <th>7</th>\n",
       "    </tr>\n",
       "  </thead>\n",
       "  <tbody>\n",
       "    <tr>\n",
       "      <th>summary</th>\n",
       "      <td>count</td>\n",
       "      <td>mean</td>\n",
       "      <td>stddev</td>\n",
       "      <td>min</td>\n",
       "      <td>25%</td>\n",
       "      <td>50%</td>\n",
       "      <td>75%</td>\n",
       "      <td>max</td>\n",
       "    </tr>\n",
       "    <tr>\n",
       "      <th>Category</th>\n",
       "      <td>878049</td>\n",
       "      <td>None</td>\n",
       "      <td>None</td>\n",
       "      <td>ARSON</td>\n",
       "      <td>None</td>\n",
       "      <td>None</td>\n",
       "      <td>None</td>\n",
       "      <td>WEAPON LAWS</td>\n",
       "    </tr>\n",
       "    <tr>\n",
       "      <th>Descript</th>\n",
       "      <td>878049</td>\n",
       "      <td>None</td>\n",
       "      <td>None</td>\n",
       "      <td>ABANDONMENT OF CHILD</td>\n",
       "      <td>None</td>\n",
       "      <td>None</td>\n",
       "      <td>None</td>\n",
       "      <td>YOUTH COURT</td>\n",
       "    </tr>\n",
       "    <tr>\n",
       "      <th>DayOfWeek</th>\n",
       "      <td>878049</td>\n",
       "      <td>None</td>\n",
       "      <td>None</td>\n",
       "      <td>Friday</td>\n",
       "      <td>None</td>\n",
       "      <td>None</td>\n",
       "      <td>None</td>\n",
       "      <td>Wednesday</td>\n",
       "    </tr>\n",
       "    <tr>\n",
       "      <th>PdDistrict</th>\n",
       "      <td>878049</td>\n",
       "      <td>None</td>\n",
       "      <td>None</td>\n",
       "      <td>BAYVIEW</td>\n",
       "      <td>None</td>\n",
       "      <td>None</td>\n",
       "      <td>None</td>\n",
       "      <td>TENDERLOIN</td>\n",
       "    </tr>\n",
       "    <tr>\n",
       "      <th>Resolution</th>\n",
       "      <td>878049</td>\n",
       "      <td>None</td>\n",
       "      <td>None</td>\n",
       "      <td>ARREST, BOOKED</td>\n",
       "      <td>None</td>\n",
       "      <td>None</td>\n",
       "      <td>None</td>\n",
       "      <td>UNFOUNDED</td>\n",
       "    </tr>\n",
       "    <tr>\n",
       "      <th>Address</th>\n",
       "      <td>878049</td>\n",
       "      <td>None</td>\n",
       "      <td>None</td>\n",
       "      <td>0 Block of  HARRISON ST</td>\n",
       "      <td>None</td>\n",
       "      <td>None</td>\n",
       "      <td>None</td>\n",
       "      <td>ZOE ST / WELSH ST</td>\n",
       "    </tr>\n",
       "    <tr>\n",
       "      <th>X</th>\n",
       "      <td>878049</td>\n",
       "      <td>-122.4226164550638</td>\n",
       "      <td>0.03035362299848847</td>\n",
       "      <td>-122.51364206429</td>\n",
       "      <td>-122.432951589917</td>\n",
       "      <td>-122.416413527535</td>\n",
       "      <td>-122.406958660602</td>\n",
       "      <td>-120.5</td>\n",
       "    </tr>\n",
       "    <tr>\n",
       "      <th>Y</th>\n",
       "      <td>878049</td>\n",
       "      <td>37.77102029800635</td>\n",
       "      <td>0.4568931047058097</td>\n",
       "      <td>37.7078790224135</td>\n",
       "      <td>37.7524273767291</td>\n",
       "      <td>37.775420706711</td>\n",
       "      <td>37.7843677003184</td>\n",
       "      <td>90.0</td>\n",
       "    </tr>\n",
       "  </tbody>\n",
       "</table>\n",
       "</div>"
      ],
      "text/plain": [
       "                 0                   1                    2  \\\n",
       "summary      count                mean               stddev   \n",
       "Category    878049                None                 None   \n",
       "Descript    878049                None                 None   \n",
       "DayOfWeek   878049                None                 None   \n",
       "PdDistrict  878049                None                 None   \n",
       "Resolution  878049                None                 None   \n",
       "Address     878049                None                 None   \n",
       "X           878049  -122.4226164550638  0.03035362299848847   \n",
       "Y           878049   37.77102029800635   0.4568931047058097   \n",
       "\n",
       "                                  3                  4                  5  \\\n",
       "summary                         min                25%                50%   \n",
       "Category                      ARSON               None               None   \n",
       "Descript       ABANDONMENT OF CHILD               None               None   \n",
       "DayOfWeek                    Friday               None               None   \n",
       "PdDistrict                  BAYVIEW               None               None   \n",
       "Resolution           ARREST, BOOKED               None               None   \n",
       "Address     0 Block of  HARRISON ST               None               None   \n",
       "X                  -122.51364206429  -122.432951589917  -122.416413527535   \n",
       "Y                  37.7078790224135   37.7524273767291    37.775420706711   \n",
       "\n",
       "                            6                  7  \n",
       "summary                   75%                max  \n",
       "Category                 None        WEAPON LAWS  \n",
       "Descript                 None        YOUTH COURT  \n",
       "DayOfWeek                None          Wednesday  \n",
       "PdDistrict               None         TENDERLOIN  \n",
       "Resolution               None          UNFOUNDED  \n",
       "Address                  None  ZOE ST / WELSH ST  \n",
       "X           -122.406958660602             -120.5  \n",
       "Y            37.7843677003184               90.0  "
      ]
     },
     "execution_count": 8,
     "metadata": {},
     "output_type": "execute_result"
    }
   ],
   "source": [
    "crime_data.summary().toPandas().transpose()"
   ]
  },
  {
   "cell_type": "code",
   "execution_count": 9,
   "metadata": {},
   "outputs": [
    {
     "name": "stdout",
     "output_type": "stream",
     "text": [
      "root\n",
      " |-- Dates: timestamp (nullable = true)\n",
      " |-- Category: string (nullable = true)\n",
      " |-- Descript: string (nullable = true)\n",
      " |-- DayOfWeek: string (nullable = true)\n",
      " |-- PdDistrict: string (nullable = true)\n",
      " |-- Resolution: string (nullable = true)\n",
      " |-- Address: string (nullable = true)\n",
      " |-- X: double (nullable = true)\n",
      " |-- Y: double (nullable = true)\n",
      "\n"
     ]
    }
   ],
   "source": [
    "crime_data.printSchema()"
   ]
  },
  {
   "cell_type": "code",
   "execution_count": 10,
   "metadata": {},
   "outputs": [
    {
     "data": {
      "text/html": [
       "<div>\n",
       "<style scoped>\n",
       "    .dataframe tbody tr th:only-of-type {\n",
       "        vertical-align: middle;\n",
       "    }\n",
       "\n",
       "    .dataframe tbody tr th {\n",
       "        vertical-align: top;\n",
       "    }\n",
       "\n",
       "    .dataframe thead th {\n",
       "        text-align: right;\n",
       "    }\n",
       "</style>\n",
       "<table border=\"1\" class=\"dataframe\">\n",
       "  <thead>\n",
       "    <tr style=\"text-align: right;\">\n",
       "      <th></th>\n",
       "      <th>count(DISTINCT Category)</th>\n",
       "      <th>count(DISTINCT Descript)</th>\n",
       "      <th>count(DISTINCT PdDistrict)</th>\n",
       "      <th>count(DISTINCT Address)</th>\n",
       "      <th>count(DISTINCT Resolution)</th>\n",
       "    </tr>\n",
       "  </thead>\n",
       "  <tbody>\n",
       "    <tr>\n",
       "      <th>0</th>\n",
       "      <td>39</td>\n",
       "      <td>879</td>\n",
       "      <td>10</td>\n",
       "      <td>23228</td>\n",
       "      <td>17</td>\n",
       "    </tr>\n",
       "  </tbody>\n",
       "</table>\n",
       "</div>"
      ],
      "text/plain": [
       "   count(DISTINCT Category)  count(DISTINCT Descript)  \\\n",
       "0                        39                       879   \n",
       "\n",
       "   count(DISTINCT PdDistrict)  count(DISTINCT Address)  \\\n",
       "0                          10                    23228   \n",
       "\n",
       "   count(DISTINCT Resolution)  \n",
       "0                          17  "
      ]
     },
     "execution_count": 10,
     "metadata": {},
     "output_type": "execute_result"
    }
   ],
   "source": [
    "#counting the distinct of each data column to know the expected features\n",
    "crime_data.select(countDistinct('Category'),countDistinct('Descript')\\\n",
    "                  , countDistinct(\"PdDistrict\"), countDistinct(\"Address\"), countDistinct(\"Resolution\")).toPandas()\n",
    "\n",
    "#from this result we can exclude the address from the features "
   ]
  },
  {
   "cell_type": "markdown",
   "metadata": {},
   "source": [
    "#### step2. cleaning and visualization"
   ]
  },
  {
   "cell_type": "code",
   "execution_count": 11,
   "metadata": {},
   "outputs": [],
   "source": [
    "#adding new features for (hour, month & year) will be used for grouping the data and more useful the dates in feature training\n",
    "#and data visualization\n",
    "crime_data = crime_data.withColumn(\"hour\", hour(\"Dates\"))\\\n",
    ".withColumn(\"month\", date_format(\"Dates\", \"MMMM\"))\\\n",
    ".withColumn(\"year\", year(\"Dates\"))"
   ]
  },
  {
   "cell_type": "markdown",
   "metadata": {},
   "source": [
    "#### Performing some EDA"
   ]
  },
  {
   "cell_type": "code",
   "execution_count": 12,
   "metadata": {},
   "outputs": [],
   "source": [
    "import matplotlib.pyplot as plt\n",
    "import seaborn as sns"
   ]
  },
  {
   "cell_type": "markdown",
   "metadata": {},
   "source": [
    "#### EDA1. visualizing the top & least 20 crime by occurance count"
   ]
  },
  {
   "cell_type": "code",
   "execution_count": 13,
   "metadata": {},
   "outputs": [],
   "source": [
    "category_counts = crime_data.groupBy(\"Category\").agg(count(\"Category\").alias(\"crime_count_per_category\"))\\\n",
    ".orderBy(desc(\"crime_count_per_category\")).toPandas()"
   ]
  },
  {
   "cell_type": "code",
   "execution_count": 14,
   "metadata": {},
   "outputs": [],
   "source": [
    "x = category_counts.Category\n",
    "y = category_counts.crime_count_per_category"
   ]
  },
  {
   "cell_type": "code",
   "execution_count": 15,
   "metadata": {},
   "outputs": [
    {
     "data": {
      "text/plain": [
       "<Figure size 432x288 with 0 Axes>"
      ]
     },
     "metadata": {},
     "output_type": "display_data"
    },
    {
     "data": {
      "image/png": "[encoded data removed]",
      "text/plain": [
       "<Figure size 1080x720 with 1 Axes>"
      ]
     },
     "metadata": {
      "needs_background": "light"
     },
     "output_type": "display_data"
    }
   ],
   "source": [
    "#plotting the top 20 crime categories ordered ascendingly by count of each category\n",
    "plt.clf()\n",
    "plt.subplots(figsize=(15,10))\n",
    "sns.barplot(x[0:20], y[0:20], palette = 'pastel')\n",
    "#sns.hist(y)\n",
    "plt.xlabel(\"Crime category\", fontsize = 15)\n",
    "plt.ylabel(\"Category Count\", fontsize = 15)\n",
    "plt.title(\"crime count per category [top 20]\", fontsize = 16)\n",
    "plt.xticks(size = 12, rotation = 90)\n",
    "plt.yticks(ticks=list(range(0,177000,15000)), size = 12)\n",
    "plt.show()\n"
   ]
  },
  {
   "cell_type": "code",
   "execution_count": 16,
   "metadata": {},
   "outputs": [
    {
     "data": {
      "text/plain": [
       "<Figure size 432x288 with 0 Axes>"
      ]
     },
     "metadata": {},
     "output_type": "display_data"
    },
    {
     "data": {
      "image/png": "[encoded data removed]",
      "text/plain": [
       "<Figure size 1080x720 with 1 Axes>"
      ]
     },
     "metadata": {
      "needs_background": "light"
     },
     "output_type": "display_data"
    }
   ],
   "source": [
    "#plotting the least 19 crime categories ordered ascendingly by count of each category\n",
    "\n",
    "plt.clf()\n",
    "plt.subplots(figsize=(15,10))\n",
    "sns.barplot(x[20::], y[20::], palette = 'pastel')\n",
    "#sns.hist(y)\n",
    "plt.xlabel(\"Crime category\", fontsize = 15)\n",
    "plt.ylabel(\"Category Count\", fontsize = 15)\n",
    "plt.title(\"crime count per category [least 20]\", fontsize = 16)\n",
    "plt.xticks(size = 12, rotation = 90)\n",
    "plt.yticks(size = 12)\n",
    "plt.show()\n",
    "#display(plt.show())"
   ]
  },
  {
   "cell_type": "markdown",
   "metadata": {},
   "source": [
    "#### EDA2. visualizing the crime occurances per each year"
   ]
  },
  {
   "cell_type": "code",
   "execution_count": 17,
   "metadata": {},
   "outputs": [],
   "source": [
    "#per year count\n",
    "year_counts = crime_data.groupBy(\"year\").agg(count(\"Category\").alias(\"crime_count_per_year\"))\\\n",
    ".orderBy(desc(\"crime_count_per_year\")).toPandas()"
   ]
  },
  {
   "cell_type": "code",
   "execution_count": 18,
   "metadata": {},
   "outputs": [],
   "source": [
    "x = year_counts.year\n",
    "y = year_counts.crime_count_per_year"
   ]
  },
  {
   "cell_type": "code",
   "execution_count": 19,
   "metadata": {},
   "outputs": [
    {
     "data": {
      "text/plain": [
       "<Figure size 432x288 with 0 Axes>"
      ]
     },
     "metadata": {},
     "output_type": "display_data"
    },
    {
     "data": {
      "image/png": "[encoded data removed]",
      "text/plain": [
       "<Figure size 1080x720 with 1 Axes>"
      ]
     },
     "metadata": {
      "needs_background": "light"
     },
     "output_type": "display_data"
    }
   ],
   "source": [
    "plt.clf()\n",
    "plt.subplots(figsize=(15,10))\n",
    "sns.barplot(x, y, palette = 'pastel')\n",
    "#sns.hist(y)\n",
    "plt.xlabel(\"Crime category\", fontsize = 15)\n",
    "plt.ylabel(\"Category Count\", fontsize = 15)\n",
    "plt.title(\"crime count per year\", fontsize = 16)\n",
    "plt.xticks(size = 12, rotation = 90)\n",
    "plt.yticks(size = 12)\n",
    "plt.show()"
   ]
  },
  {
   "cell_type": "markdown",
   "metadata": {},
   "source": [
    "#### EDA3. visualizing the crime occurances per each Month"
   ]
  },
  {
   "cell_type": "code",
   "execution_count": 20,
   "metadata": {},
   "outputs": [],
   "source": [
    "#per Month count\n",
    "month_count = crime_data.groupBy(\"month\").agg(count(\"Category\").alias(\"crime_count_per_month\"))\\\n",
    ".orderBy(desc(\"crime_count_per_month\")).toPandas()"
   ]
  },
  {
   "cell_type": "code",
   "execution_count": 21,
   "metadata": {},
   "outputs": [],
   "source": [
    "x = month_count.month\n",
    "y = month_count.crime_count_per_month"
   ]
  },
  {
   "cell_type": "code",
   "execution_count": 22,
   "metadata": {},
   "outputs": [
    {
     "data": {
      "text/plain": [
       "<Figure size 432x288 with 0 Axes>"
      ]
     },
     "metadata": {},
     "output_type": "display_data"
    },
    {
     "data": {
      "image/png": "[encoded data removed]",
      "text/plain": [
       "<Figure size 1080x720 with 1 Axes>"
      ]
     },
     "metadata": {
      "needs_background": "light"
     },
     "output_type": "display_data"
    }
   ],
   "source": [
    "plt.clf()\n",
    "plt.subplots(figsize=(15,10))\n",
    "sns.barplot(x, y, palette= 'pastel')\n",
    "#sns.hist(y)\n",
    "plt.xlabel(\"Crime category\", fontsize = 15)\n",
    "plt.ylabel(\"Category Count\", fontsize = 15)\n",
    "plt.title(\"crime count per Month\", fontsize = 16)\n",
    "plt.xticks(size = 12, rotation = 90)\n",
    "plt.yticks(size = 12)\n",
    "plt.show()"
   ]
  },
  {
   "cell_type": "markdown",
   "metadata": {},
   "source": [
    "#### EDA4. visualizing the crime occurances per each Day"
   ]
  },
  {
   "cell_type": "code",
   "execution_count": 23,
   "metadata": {},
   "outputs": [],
   "source": [
    "#per day count\n",
    "day_count = crime_data.groupBy(\"DayOfWeek\").agg(count(\"Category\").alias(\"crime_count_per_day\"))\\\n",
    ".orderBy(desc(\"crime_count_per_day\")).toPandas()"
   ]
  },
  {
   "cell_type": "code",
   "execution_count": 24,
   "metadata": {},
   "outputs": [],
   "source": [
    "x = day_count.DayOfWeek\n",
    "y = day_count.crime_count_per_day"
   ]
  },
  {
   "cell_type": "code",
   "execution_count": 25,
   "metadata": {},
   "outputs": [
    {
     "data": {
      "text/plain": [
       "<Figure size 432x288 with 0 Axes>"
      ]
     },
     "metadata": {},
     "output_type": "display_data"
    },
    {
     "data": {
      "image/png": "[encoded data removed]",
      "text/plain": [
       "<Figure size 1080x720 with 1 Axes>"
      ]
     },
     "metadata": {
      "needs_background": "light"
     },
     "output_type": "display_data"
    }
   ],
   "source": [
    "plt.clf()\n",
    "plt.subplots(figsize=(15,10))\n",
    "sns.barplot(x, y, palette= 'pastel')\n",
    "#sns.hist(y)\n",
    "plt.xlabel(\"Crime category\", fontsize = 15)\n",
    "plt.ylabel(\"Category Count\", fontsize = 15)\n",
    "plt.title(\"crime count per day\", fontsize = 16)\n",
    "plt.xticks(size = 12, rotation = 90)\n",
    "plt.yticks(size = 12)\n",
    "plt.show()"
   ]
  },
  {
   "cell_type": "code",
   "execution_count": 26,
   "metadata": {},
   "outputs": [
    {
     "name": "stdout",
     "output_type": "stream",
     "text": [
      "root\n",
      " |-- Dates: timestamp (nullable = true)\n",
      " |-- Category: string (nullable = true)\n",
      " |-- Descript: string (nullable = true)\n",
      " |-- DayOfWeek: string (nullable = true)\n",
      " |-- PdDistrict: string (nullable = true)\n",
      " |-- Resolution: string (nullable = true)\n",
      " |-- Address: string (nullable = true)\n",
      " |-- X: double (nullable = true)\n",
      " |-- Y: double (nullable = true)\n",
      " |-- hour: integer (nullable = true)\n",
      " |-- month: string (nullable = true)\n",
      " |-- year: integer (nullable = true)\n",
      "\n"
     ]
    }
   ],
   "source": [
    "crime_data.printSchema()"
   ]
  },
  {
   "cell_type": "markdown",
   "metadata": {},
   "source": [
    "**adding new label (numeric format) column to the data ; will be used in training**"
   ]
  },
  {
   "cell_type": "code",
   "execution_count": 27,
   "metadata": {},
   "outputs": [],
   "source": [
    "categories = crime_data.select(\"Category\").dropDuplicates().toPandas()"
   ]
  },
  {
   "cell_type": "code",
   "execution_count": 28,
   "metadata": {},
   "outputs": [],
   "source": [
    "categories['categoryindex'] = list(range(len(categories))) #adding the index column to the pandas category dataframe"
   ]
  },
  {
   "cell_type": "code",
   "execution_count": 29,
   "metadata": {},
   "outputs": [],
   "source": [
    "categories['categoryindex'] = categories['categoryindex'].astype(basestring)"
   ]
  },
  {
   "cell_type": "code",
   "execution_count": 30,
   "metadata": {},
   "outputs": [],
   "source": [
    "crime_data = crime_data.withColumn(\"categoryindex\", col(\"Category\"))"
   ]
  },
  {
   "cell_type": "code",
   "execution_count": 31,
   "metadata": {},
   "outputs": [],
   "source": [
    "#transorming the category string to numeric format\n",
    "crime_data = crime_data.replace(list(categories.Category), list(categories.categoryindex), 'categoryindex')"
   ]
  },
  {
   "cell_type": "code",
   "execution_count": 32,
   "metadata": {},
   "outputs": [],
   "source": [
    "crime_data = crime_data.select(\"*\", crime_data.categoryindex.cast(\"int\").alias(\"label\")).drop(\"categoryindex\")"
   ]
  },
  {
   "cell_type": "code",
   "execution_count": 33,
   "metadata": {},
   "outputs": [
    {
     "name": "stdout",
     "output_type": "stream",
     "text": [
      "root\n",
      " |-- Dates: timestamp (nullable = true)\n",
      " |-- Category: string (nullable = true)\n",
      " |-- Descript: string (nullable = true)\n",
      " |-- DayOfWeek: string (nullable = true)\n",
      " |-- PdDistrict: string (nullable = true)\n",
      " |-- Resolution: string (nullable = true)\n",
      " |-- Address: string (nullable = true)\n",
      " |-- X: double (nullable = true)\n",
      " |-- Y: double (nullable = true)\n",
      " |-- hour: integer (nullable = true)\n",
      " |-- month: string (nullable = true)\n",
      " |-- year: integer (nullable = true)\n",
      " |-- label: integer (nullable = true)\n",
      "\n"
     ]
    }
   ],
   "source": [
    "crime_data.printSchema()"
   ]
  },
  {
   "cell_type": "markdown",
   "metadata": {},
   "source": [
    "#### importing test data"
   ]
  },
  {
   "cell_type": "code",
   "execution_count": 34,
   "metadata": {},
   "outputs": [],
   "source": [
    "test_data = spark.read.csv('test.csv', header = True, inferSchema = True)"
   ]
  },
  {
   "cell_type": "code",
   "execution_count": 35,
   "metadata": {},
   "outputs": [
    {
     "name": "stdout",
     "output_type": "stream",
     "text": [
      "root\n",
      " |-- Id: integer (nullable = true)\n",
      " |-- Dates: timestamp (nullable = true)\n",
      " |-- DayOfWeek: string (nullable = true)\n",
      " |-- PdDistrict: string (nullable = true)\n",
      " |-- Address: string (nullable = true)\n",
      " |-- X: double (nullable = true)\n",
      " |-- Y: double (nullable = true)\n",
      "\n"
     ]
    }
   ],
   "source": [
    "test_data.printSchema()"
   ]
  },
  {
   "cell_type": "code",
   "execution_count": 36,
   "metadata": {},
   "outputs": [],
   "source": [
    "#applying same column processing done on training data on the test data\n",
    "test_data = test_data.withColumn(\"hour\", hour(\"Dates\"))\\\n",
    ".withColumn(\"month\", date_format(\"Dates\", \"MMMM\"))\\\n",
    ".withColumn(\"year\", year(\"Dates\"))"
   ]
  },
  {
   "cell_type": "code",
   "execution_count": 37,
   "metadata": {},
   "outputs": [
    {
     "name": "stdout",
     "output_type": "stream",
     "text": [
      "root\n",
      " |-- Id: integer (nullable = true)\n",
      " |-- Dates: timestamp (nullable = true)\n",
      " |-- DayOfWeek: string (nullable = true)\n",
      " |-- PdDistrict: string (nullable = true)\n",
      " |-- Address: string (nullable = true)\n",
      " |-- X: double (nullable = true)\n",
      " |-- Y: double (nullable = true)\n",
      " |-- hour: integer (nullable = true)\n",
      " |-- month: string (nullable = true)\n",
      " |-- year: integer (nullable = true)\n",
      "\n"
     ]
    }
   ],
   "source": [
    "test_data.printSchema()"
   ]
  },
  {
   "cell_type": "markdown",
   "metadata": {},
   "source": [
    "#### step 3. selecting the features columns"
   ]
  },
  {
   "cell_type": "code",
   "execution_count": 38,
   "metadata": {},
   "outputs": [],
   "source": [
    "string_features = ['DayOfWeek', 'PdDistrict', 'month']"
   ]
  },
  {
   "cell_type": "code",
   "execution_count": 39,
   "metadata": {},
   "outputs": [],
   "source": [
    "numeric_features = ['X', 'Y', 'hour', 'year']"
   ]
  },
  {
   "cell_type": "code",
   "execution_count": 40,
   "metadata": {},
   "outputs": [],
   "source": [
    "from pyspark.ml import Pipeline\n",
    "from pyspark.ml.feature import OneHotEncoderEstimator, StringIndexer, VectorAssembler, IndexToString, StandardScaler\n",
    "from pyspark.ml.classification import LogisticRegression, RandomForestClassifier, DecisionTreeClassifier\n",
    "from pyspark.ml.evaluation import MulticlassClassificationEvaluator"
   ]
  },
  {
   "cell_type": "code",
   "execution_count": 41,
   "metadata": {},
   "outputs": [],
   "source": [
    "#labelIndexer = StringIndexer(inputCol ='Category', outputCol = 'labelindex') #converting the target column to index\n",
    "#lablecoder = OneHotEncoderEstimator(inputCols = ['labelindex'], outputCols = ['label'])"
   ]
  },
  {
   "cell_type": "code",
   "execution_count": 42,
   "metadata": {},
   "outputs": [],
   "source": [
    "# indexing string feature columns\n",
    "dayindexer = StringIndexer(inputCol = 'DayOfWeek', outputCol = 'dayofweekindex')\n",
    "districtindexer = StringIndexer(inputCol = 'PdDistrict', outputCol = 'districtindex')\n",
    "monthindexer = StringIndexer(inputCol = 'month', outputCol = 'monthindex')\n",
    "\n",
    "#converting indexed feature columns to One hot ecoded\n",
    "onehotecoded = OneHotEncoderEstimator(inputCols = ['dayofweekindex', 'districtindex', 'monthindex'],\\\n",
    "                                      outputCols = ['dayofweekvect', 'districtvect', 'monthvect'])\n",
    "\n",
    "#converting the features columns to 1 feature column using VectorAssembler\n",
    "vectorassembler = VectorAssembler(inputCols = ['X', 'Y', 'hour', 'year', 'dayofweekvect', 'districtvect', 'monthvect'],\\\n",
    "                                 outputCol= 'assemblerfeatures')\n",
    "\n",
    "#Scaling the vector assembler result before starting the model training\n",
    "featurescaler = StandardScaler(inputCol = 'assemblerfeatures', outputCol = 'features')"
   ]
  },
  {
   "cell_type": "markdown",
   "metadata": {},
   "source": [
    "#### training model 1\n",
    "##### Randomforest classifier\n",
    "**Valiable Parameters trials numTrees = [10, 20, 30]**"
   ]
  },
  {
   "cell_type": "code",
   "execution_count": 43,
   "metadata": {},
   "outputs": [],
   "source": [
    "# Train a RandomForest model\n",
    "# numTrees=10.\n",
    "rf1 = RandomForestClassifier(labelCol=\"label\", featuresCol=\"features\", numTrees=10)\n",
    "\n",
    "# numTrees = 20\n",
    "rf2 = RandomForestClassifier(labelCol=\"label\", featuresCol=\"features\", numTrees=20)\n",
    "\n",
    "# numTrees = 30\n",
    "rf3 = RandomForestClassifier(labelCol=\"label\", featuresCol=\"features\", numTrees=30)"
   ]
  },
  {
   "cell_type": "code",
   "execution_count": 44,
   "metadata": {},
   "outputs": [],
   "source": [
    "#labelConverter = IndexToString(inputCol=\"prediction\", outputCol=\"predictedLabel\")"
   ]
  },
  {
   "cell_type": "code",
   "execution_count": 45,
   "metadata": {},
   "outputs": [],
   "source": [
    "# Chain indexers and model in a Pipeline\n",
    "pipeline1 = Pipeline(stages=[dayindexer, districtindexer, monthindexer, onehotecoded, vectorassembler, featurescaler, rf1])\n",
    "\n",
    "pipeline2 = Pipeline(stages=[dayindexer, districtindexer, monthindexer, onehotecoded, vectorassembler, featurescaler, rf2])\n",
    "\n",
    "pipeline3 = Pipeline(stages=[dayindexer, districtindexer, monthindexer, onehotecoded, vectorassembler, featurescaler, rf3])"
   ]
  },
  {
   "cell_type": "code",
   "execution_count": 46,
   "metadata": {},
   "outputs": [],
   "source": [
    "#train the model numtree=10\n",
    "model1 = pipeline1.fit(crime_data)\n",
    "\n",
    "#train the model numtree=20\n",
    "model2 = pipeline2.fit(crime_data)\n",
    "\n",
    "#train the model numtree=30\n",
    "model3 = pipeline3.fit(crime_data)"
   ]
  },
  {
   "cell_type": "code",
   "execution_count": 47,
   "metadata": {},
   "outputs": [],
   "source": [
    "# Make predictions numTree = 10\n",
    "predictions1 = model1.transform(test_data)\n",
    "\n",
    "# Make predictions numTree = 20\n",
    "predictions2 = model2.transform(test_data)\n",
    "\n",
    "# Make predictions numTree = 30\n",
    "predictions3 = model3.transform(test_data)"
   ]
  },
  {
   "cell_type": "code",
   "execution_count": 48,
   "metadata": {},
   "outputs": [
    {
     "name": "stdout",
     "output_type": "stream",
     "text": [
      "prediction1 size =  884262\n",
      "prediction2 size =  884262\n",
      "prediction3 size =  884262\n"
     ]
    }
   ],
   "source": [
    "print('prediction1 size = ', predictions1.count())\n",
    "print('prediction2 size = ', predictions2.count())\n",
    "print('prediction3 size = ', predictions3.count())"
   ]
  },
  {
   "cell_type": "markdown",
   "metadata": {},
   "source": [
    "#### Training Model 2. \n",
    "##### LogisticRegression\n",
    "**Variable parameters regparam = [1, 0.1, 0.01]**"
   ]
  },
  {
   "cell_type": "code",
   "execution_count": 49,
   "metadata": {},
   "outputs": [],
   "source": [
    "# Train a Logistic Regression model\n",
    "# regparam=1\n",
    "lr1 = LogisticRegression(regParam=1)\n",
    "\n",
    "# regparam=0.1\n",
    "lr2 = LogisticRegression(regParam=0.1)\n",
    "\n",
    "# regparam=0.01\n",
    "lr3 = LogisticRegression(regParam=0.01)"
   ]
  },
  {
   "cell_type": "code",
   "execution_count": 50,
   "metadata": {},
   "outputs": [],
   "source": [
    "# Chain indexers and model in a Pipeline\n",
    "pipeline4 = Pipeline(stages=[dayindexer, districtindexer, monthindexer, onehotecoded, vectorassembler, featurescaler, lr1])\n",
    "\n",
    "pipeline5 = Pipeline(stages=[dayindexer, districtindexer, monthindexer, onehotecoded, vectorassembler, featurescaler, lr2])\n",
    "\n",
    "pipeline6 = Pipeline(stages=[dayindexer, districtindexer, monthindexer, onehotecoded, vectorassembler, featurescaler, lr3])"
   ]
  },
  {
   "cell_type": "code",
   "execution_count": 51,
   "metadata": {},
   "outputs": [],
   "source": [
    "#train the model regparam=1\n",
    "model4 = pipeline4.fit(crime_data)\n",
    "\n",
    "#train the model regparam=0.1\n",
    "model5 = pipeline5.fit(crime_data)\n",
    "\n",
    "#train the model regparam=0.01\n",
    "model6 = pipeline6.fit(crime_data)"
   ]
  },
  {
   "cell_type": "code",
   "execution_count": 52,
   "metadata": {},
   "outputs": [],
   "source": [
    "# Make predictions regparam=1\n",
    "predictions4 = model4.transform(test_data)\n",
    "\n",
    "# Make predictions regparam=0.1\n",
    "predictions5 = model5.transform(test_data)\n",
    "\n",
    "# Make predictions regparam=0.01\n",
    "predictions6 = model6.transform(test_data)"
   ]
  },
  {
   "cell_type": "code",
   "execution_count": 53,
   "metadata": {},
   "outputs": [
    {
     "name": "stdout",
     "output_type": "stream",
     "text": [
      "prediction4 size =  884262\n",
      "prediction5 size =  884262\n",
      "prediction6 size =  884262\n"
     ]
    }
   ],
   "source": [
    "print('prediction4 size = ', predictions4.count())\n",
    "print('prediction5 size = ', predictions5.count())\n",
    "print('prediction6 size = ', predictions6.count())"
   ]
  },
  {
   "cell_type": "markdown",
   "metadata": {},
   "source": [
    "#### Training Model 3. \n",
    "##### DecisionTreeClassifier\n",
    "**Variable parameters maxDepth = [2, 5, 10]**"
   ]
  },
  {
   "cell_type": "code",
   "execution_count": 54,
   "metadata": {},
   "outputs": [],
   "source": [
    "# Train a DecisionTreeClassifier model\n",
    "# maxDepth=2\n",
    "dt1 = DecisionTreeClassifier(maxDepth=2)\n",
    "\n",
    "# maxDepth=5\n",
    "dt2 = DecisionTreeClassifier(maxDepth=5)\n",
    "\n",
    "# maxDepth=10\n",
    "dt3 = DecisionTreeClassifier(maxDepth=10)"
   ]
  },
  {
   "cell_type": "code",
   "execution_count": 55,
   "metadata": {},
   "outputs": [],
   "source": [
    "# Chain indexers and model in a Pipeline\n",
    "pipeline7 = Pipeline(stages=[dayindexer, districtindexer, monthindexer, onehotecoded, vectorassembler, featurescaler, dt1])\n",
    "\n",
    "pipeline8 = Pipeline(stages=[dayindexer, districtindexer, monthindexer, onehotecoded, vectorassembler, featurescaler, dt2])\n",
    "\n",
    "pipeline9 = Pipeline(stages=[dayindexer, districtindexer, monthindexer, onehotecoded, vectorassembler, featurescaler, dt3])"
   ]
  },
  {
   "cell_type": "code",
   "execution_count": 56,
   "metadata": {},
   "outputs": [],
   "source": [
    "#train the model maxDepth=2\n",
    "model7 = pipeline7.fit(crime_data)\n",
    "\n",
    "#train the model maxDepth=5\n",
    "model8 = pipeline8.fit(crime_data)\n",
    "\n",
    "#train the model maxDepth=10\n",
    "model9 = pipeline9.fit(crime_data)"
   ]
  },
  {
   "cell_type": "code",
   "execution_count": 57,
   "metadata": {},
   "outputs": [],
   "source": [
    "# Make predictions regparam=1\n",
    "predictions7 = model7.transform(test_data)\n",
    "\n",
    "# Make predictions regparam=0.1\n",
    "predictions8 = model8.transform(test_data)\n",
    "\n",
    "# Make predictions regparam=0.01\n",
    "predictions9 = model9.transform(test_data)"
   ]
  },
  {
   "cell_type": "code",
   "execution_count": 58,
   "metadata": {},
   "outputs": [
    {
     "name": "stdout",
     "output_type": "stream",
     "text": [
      "prediction7 size =  884262\n",
      "prediction8 size =  884262\n",
      "prediction9 size =  884262\n"
     ]
    }
   ],
   "source": [
    "print('prediction7 size = ', predictions7.count())\n",
    "print('prediction8 size = ', predictions8.count())\n",
    "print('prediction9 size = ', predictions9.count())"
   ]
  },
  {
   "cell_type": "markdown",
   "metadata": {},
   "source": [
    "**Transforming the predictions probabilities to match the submission format**"
   ]
  },
  {
   "cell_type": "code",
   "execution_count": 96,
   "metadata": {},
   "outputs": [
    {
     "data": {
      "text/plain": [
       "40"
      ]
     },
     "execution_count": 96,
     "metadata": {},
     "output_type": "execute_result"
    }
   ],
   "source": [
    "# features list for naming the submit dataframe\n",
    "features = [\"Id\", 'ARSON', 'ASSAULT', 'BAD CHECKS', 'BRIBERY', 'BURGLARY', 'DISORDERLY CONDUCT', 'DRIVING UNDER THE INFLUENCE',\n",
    "'DRUG/NARCOTIC', 'DRUNKENNESS', 'EMBEZZLEMENT', 'EXTORTION', 'FAMILY OFFENSES', 'FORGERY/COUNTERFEITING', 'FRAUD',\n",
    "'GAMBLING', 'KIDNAPPING', 'LARCENY/THEFT', 'LIQUOR LAWS', 'LOITERING', 'MISSING PERSON', 'NON-CRIMINAL', 'OTHER OFFENSES',\n",
    "'PORNOGRAPHY/OBSCENE MAT', 'PROSTITUTION', 'RECOVERED VEHICLE', 'ROBBERY', 'RUNAWAY', 'SECONDARY CODES',\n",
    "'SEX OFFENSES FORCIBLE', 'SEX OFFENSES NON FORCIBLE', 'STOLEN PROPERTY', 'SUICIDE', 'SUSPICIOUS OCC', 'TREA', 'TRESPASS',\n",
    "'VANDALISM', 'VEHICLE THEFT', 'WARRANTS', 'WEAPON LAWS']\n",
    "len(features)"
   ]
  },
  {
   "cell_type": "code",
   "execution_count": 97,
   "metadata": {},
   "outputs": [],
   "source": [
    "# function to convert the Id, Probability vctor column to a dataframe\n",
    "def convert(row):\n",
    "    return (row.Id, ) + tuple(row.vec.toArray().tolist())"
   ]
  },
  {
   "cell_type": "markdown",
   "metadata": {},
   "source": [
    "**random Forest predictions transformation**\n"
   ]
  },
  {
   "cell_type": "code",
   "execution_count": 98,
   "metadata": {},
   "outputs": [],
   "source": [
    "#randomforest numtrees = 10\n",
    "pred1 = predictions1.select('Id','probability').toDF(*['Id','vec'])"
   ]
  },
  {
   "cell_type": "code",
   "execution_count": 99,
   "metadata": {},
   "outputs": [],
   "source": [
    "submit1 = pred1.rdd.map(convert).toDF(features) #randomforest numtrees = 10"
   ]
  },
  {
   "cell_type": "code",
   "execution_count": 100,
   "metadata": {},
   "outputs": [
    {
     "data": {
      "text/plain": [
       "884262"
      ]
     },
     "execution_count": 100,
     "metadata": {},
     "output_type": "execute_result"
    }
   ],
   "source": [
    "submit1.count() #randomforest numtrees = 10"
   ]
  },
  {
   "cell_type": "code",
   "execution_count": 101,
   "metadata": {},
   "outputs": [],
   "source": [
    "#randomforest numtrees = 10\n",
    "submit1.coalesce(1).write.csv(\"rf_numtree_10\", header = True) #saving results locally "
   ]
  },
  {
   "cell_type": "code",
   "execution_count": 104,
   "metadata": {},
   "outputs": [],
   "source": [
    "#randomforest numtrees = 20\n",
    "pred2 = predictions2.select('Id','probability').toDF(*['Id','vec'])\n",
    "submit2 = pred2.rdd.map(convert).toDF(features) #randomforest numtrees = 20\n",
    "#randomforest numtrees = 20\n",
    "submit2.coalesce(1).write.csv(\"rf_numtree_20\", header = True) #saving results locally "
   ]
  },
  {
   "cell_type": "code",
   "execution_count": 105,
   "metadata": {},
   "outputs": [],
   "source": [
    "#randomforest numtrees = 30\n",
    "pred3 = predictions3.select('Id','probability').toDF(*['Id','vec'])\n",
    "submit3 = pred2.rdd.map(convert).toDF(features) #randomforest numtrees = 30\n",
    "#randomforest numtrees = 30\n",
    "submit3.coalesce(1).write.csv(\"rf_numtree_30\", header = True) #saving results locally "
   ]
  },
  {
   "cell_type": "markdown",
   "metadata": {},
   "source": [
    "**LogisticRegression predictions transformation**"
   ]
  },
  {
   "cell_type": "code",
   "execution_count": 106,
   "metadata": {},
   "outputs": [],
   "source": [
    "#Logisticregression regparam = 1\n",
    "pred4 = predictions4.select('Id','probability').toDF(*['Id','vec'])\n",
    "submit4 = pred4.rdd.map(convert).toDF(features) \n",
    "submit4.coalesce(1).write.csv(\"lr_regparam_1\", header = True) #saving results locally "
   ]
  },
  {
   "cell_type": "code",
   "execution_count": 107,
   "metadata": {},
   "outputs": [],
   "source": [
    "#Logisticregression regparam = 0.1\n",
    "pred5 = predictions5.select('Id','probability').toDF(*['Id','vec'])\n",
    "submit5 = pred5.rdd.map(convert).toDF(features) \n",
    "submit5.coalesce(1).write.csv(\"lr_regparam_0.1\", header = True) #saving results locally "
   ]
  },
  {
   "cell_type": "code",
   "execution_count": 108,
   "metadata": {},
   "outputs": [],
   "source": [
    "#Logisticregression regparam = 0.01\n",
    "pred6 = predictions6.select('Id','probability').toDF(*['Id','vec'])\n",
    "submit6 = pred6.rdd.map(convert).toDF(features) \n",
    "submit6.coalesce(1).write.csv(\"lr_regparam_0.01\", header = True) #saving results locally "
   ]
  },
  {
   "cell_type": "markdown",
   "metadata": {},
   "source": [
    "**DecisionTree Predictions Transformation**"
   ]
  },
  {
   "cell_type": "code",
   "execution_count": 109,
   "metadata": {},
   "outputs": [],
   "source": [
    "#decisiontree maxdepth = 2\n",
    "pred7 = predictions7.select('Id','probability').toDF(*['Id','vec'])\n",
    "submit7 = pred7.rdd.map(convert).toDF(features) \n",
    "submit7.coalesce(1).write.csv(\"DT_maxdepth_2\", header = True) #saving results locally "
   ]
  },
  {
   "cell_type": "code",
   "execution_count": 110,
   "metadata": {},
   "outputs": [],
   "source": [
    "#decisiontree maxdepth = 5\n",
    "pred8 = predictions8.select('Id','probability').toDF(*['Id','vec'])\n",
    "submit8 = pred8.rdd.map(convert).toDF(features) \n",
    "submit8.coalesce(1).write.csv(\"DT_maxdepth_5\", header = True) #saving results locally "
   ]
  },
  {
   "cell_type": "code",
   "execution_count": 111,
   "metadata": {},
   "outputs": [],
   "source": [
    "#decisiontree maxdepth = 10\n",
    "pred9 = predictions9.select('Id','probability').toDF(*['Id','vec'])\n",
    "submit9 = pred9.rdd.map(convert).toDF(features) \n",
    "submit9.coalesce(1).write.csv(\"DT_maxdepth_10\", header = True) #saving results locally "
   ]
  },
  {
   "cell_type": "code",
   "execution_count": null,
   "metadata": {},
   "outputs": [],
   "source": []
  },
  {
   "cell_type": "code",
   "execution_count": null,
   "metadata": {},
   "outputs": [],
   "source": []
  }
 ],
 "metadata": {
  "kernelspec": {
   "display_name": "Python 3",
   "language": "python",
   "name": "python3"
  },
  "language_info": {
   "codemirror_mode": {
    "name": "ipython",
    "version": 3
   },
   "file_extension": ".py",
   "mimetype": "text/x-python",
   "name": "python",
   "nbconvert_exporter": "python",
   "pygments_lexer": "ipython3",
   "version": "3.7.3"
  },
  "name": "Project",
  "notebookId": 3985452199941918
 },
 "nbformat": 4,
 "nbformat_minor": 1
}
